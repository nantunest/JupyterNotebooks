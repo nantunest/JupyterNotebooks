{
 "cells": [
  {
   "cell_type": "code",
   "execution_count": 2,
   "id": "30777254-4dee-4b12-949c-9266a6f72db5",
   "metadata": {},
   "outputs": [
    {
     "name": "stdout",
     "output_type": "stream",
     "text": [
      "10.0 8.3e-05 0.000276 2.1e-05 0.015443\n",
      "Finish\n"
     ]
    },
    {
     "data": {
      "image/png": "[encoded data removed]",
      "text/plain": [
       "<Figure size 432x288 with 1 Axes>"
      ]
     },
     "metadata": {
      "needs_background": "light"
     },
     "output_type": "display_data"
    }
   ],
   "source": [
    "import pandas as pd\n",
    "import numpy as np\n",
    "import matplotlib.pyplot as plt\n",
    "import seaborn as sns\n",
    "from scipy.stats import norm\n",
    "\n",
    "filename = 'stats.csv'\n",
    "data = pd.read_csv(filename)\n",
    "\n",
    "period = data.values[0][0]\n",
    "mean_error = data.values[1][0]\n",
    "variance = data.values[2][0]\n",
    "min_error = data.values[3][0]\n",
    "max_error = data.values[4][0]\n",
    "\n",
    "print(period, mean_error, variance, min_error, max_error)\n",
    "\n",
    "dataper = (data[5:])/(period/1000.0) * 100\n",
    "\n",
    "dataper.plot.hist(bins=100, log=True)"
   ]
  },
  {
   "cell_type": "code",
   "execution_count": null,
   "id": "4bdd95c4-b2ec-467e-a686-1f266735cd1b",
   "metadata": {},
   "outputs": [],
   "source": []
  }
 ],
 "metadata": {
  "kernelspec": {
   "display_name": "Python 3",
   "language": "python",
   "name": "python3"
  },
  "language_info": {
   "codemirror_mode": {
    "name": "ipython",
    "version": 3
   },
   "file_extension": ".py",
   "mimetype": "text/x-python",
   "name": "python",
   "nbconvert_exporter": "python",
   "pygments_lexer": "ipython3",
   "version": "3.6.9"
  }
 },
 "nbformat": 4,
 "nbformat_minor": 5
}
